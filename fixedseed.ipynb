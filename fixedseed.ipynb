{
 "cells": [
  {
   "cell_type": "code",
   "execution_count": 1,
   "metadata": {},
   "outputs": [],
   "source": [
    "# PyTorch\n",
    "import torch\n",
    "import torch.nn as nn\n",
    "import torch.optim as optim\n",
    "from torch.utils.data import DataLoader, random_split\n",
    "from torchvision import transforms\n",
    "from torchvision.datasets import CIFAR10, ImageFolder\n",
    "from torchvision.utils import make_grid\n",
    "\n",
    "\n",
    "\n",
    "# モデル構造の表示\n",
    "from torchinfo import summary\n",
    "\n",
    "# その他\n",
    "import numpy as np\n",
    "import matplotlib.pyplot as plt\n",
    "import pathlib\n",
    "from tqdm import tqdm\n",
    "from PIL import Image\n",
    "\n",
    "from torch.utils.tensorboard import SummaryWriter\n",
    "from datetime import datetime\n",
    "import random\n",
    "import os"
   ]
  },
  {
   "cell_type": "code",
   "execution_count": 2,
   "metadata": {},
   "outputs": [],
   "source": [
    "#シードを固定化\n",
    "def fix_seed(seed=42):\n",
    "    # Python random\n",
    "    random.seed(seed)\n",
    "    # Numpy\n",
    "    np.random.seed(seed)\n",
    "    # Pytorch\n",
    "    torch.manual_seed(seed) #cpuとcudaも同時に固定\n",
    "    #torch.cuda.manual_seed(seed) #上記で呼び出される\n",
    "    torch.backends.cudnn.deterministic = True\n",
    "    torch.use_deterministic_algorithms = True"
   ]
  },
  {
   "cell_type": "code",
   "execution_count": 3,
   "metadata": {},
   "outputs": [
    {
     "name": "stdout",
     "output_type": "stream",
     "text": [
      "/home/hyokonbanwa/projects/6kai/log/fixedseed/20221212-213308\n"
     ]
    }
   ],
   "source": [
    "now = datetime.now()\n",
    "cur_path = os.getcwd()\n",
    "#basename_without_ext = os.path.splitext(os.path.basename(__file__))[0] #pythonファイルの時ファイル名取得\n",
    "log_path = os.path.join(cur_path,\"log\",\"fixedseed\",now.strftime(\"%Y%m%d-%H%M%S\")) #\"このファイルのあるディレクトリ/log/fixseed/実行日時\"以下にファイルを作成\n",
    "print(log_path)\n",
    "\n",
    "\n"
   ]
  },
  {
   "cell_type": "code",
   "execution_count": 4,
   "metadata": {},
   "outputs": [
    {
     "name": "stdout",
     "output_type": "stream",
     "text": [
      "random 0~1\n",
      "0番目:0.6394267984578837\n",
      "1番目:0.025010755222666936\n",
      "2番目:0.27502931836911926\n",
      "3番目:0.22321073814882275\n",
      "4番目:0.7364712141640124\n",
      "numpy 0~1\n",
      "0番目:0.3745401188473625\n",
      "1番目:0.9507143064099162\n",
      "2番目:0.7319939418114051\n",
      "3番目:0.5986584841970366\n",
      "4番目:0.15601864044243652\n",
      "torch 0~1\n",
      "0番目:0.8822692632675171\n",
      "1番目:0.9150039553642273\n",
      "2番目:0.38286375999450684\n",
      "3番目:0.9593056440353394\n",
      "4番目:0.3904482126235962\n"
     ]
    }
   ],
   "source": [
    "fix_seed()\n",
    "writer = SummaryWriter(log_dir=log_path)\n",
    "\n",
    "print(\"random 0~1\")\n",
    "for i in range(5):\n",
    "    x = random.random()\n",
    "    print(f\"{i}番目:{x}\")\n",
    "    writer.add_scalar(\"python\",x,i)\n",
    "\n",
    "print(\"numpy 0~1\")\n",
    "for i in range(5):\n",
    "    x = np.random.rand()\n",
    "    print(f\"{i}番目:{x}\")\n",
    "    writer.add_scalar(\"np\",x,i)\n",
    "\n",
    "print(\"torch 0~1\")\n",
    "for i in range(5):\n",
    "    x = torch.rand(1).item()\n",
    "    print(f\"{i}番目:{x}\")\n",
    "    writer.add_scalar(\"torch\",x,i)\n",
    "\n",
    "writer.close()"
   ]
  }
 ],
 "metadata": {
  "kernelspec": {
   "display_name": "develop",
   "language": "python",
   "name": "python3"
  },
  "language_info": {
   "codemirror_mode": {
    "name": "ipython",
    "version": 3
   },
   "file_extension": ".py",
   "mimetype": "text/x-python",
   "name": "python",
   "nbconvert_exporter": "python",
   "pygments_lexer": "ipython3",
   "version": "3.9.15 | packaged by conda-forge | (main, Nov 22 2022, 15:55:03) \n[GCC 10.4.0]"
  },
  "orig_nbformat": 4,
  "vscode": {
   "interpreter": {
    "hash": "51338ad8dbad3fd72232fa288c2166d0fb85bf87bf56dc7f1f70bdddea88943e"
   }
  }
 },
 "nbformat": 4,
 "nbformat_minor": 2
}
