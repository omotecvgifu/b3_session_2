{
 "cells": [
  {
   "cell_type": "code",
   "execution_count": 2,
   "metadata": {},
   "outputs": [
    {
     "name": "stdout",
     "output_type": "stream",
     "text": [
      "2022年12月18日 15:36:50\n"
     ]
    }
   ],
   "source": [
    "import datetime\n",
    "dt_now = datetime.datetime.now(datetime.timezone(datetime.timedelta(hours=9)))\n",
    "time_now = dt_now.strftime('%Y年%m月%d日 %H:%M:%S')\n",
    "print(time_now)"
   ]
  },
  {
   "cell_type": "code",
   "execution_count": null,
   "metadata": {},
   "outputs": [],
   "source": []
  }
 ],
 "metadata": {
  "kernelspec": {
   "display_name": "develop2",
   "language": "python",
   "name": "python3"
  },
  "language_info": {
   "codemirror_mode": {
    "name": "ipython",
    "version": 3
   },
   "file_extension": ".py",
   "mimetype": "text/x-python",
   "name": "python",
   "nbconvert_exporter": "python",
   "pygments_lexer": "ipython3",
   "version": "3.9.15"
  },
  "orig_nbformat": 4,
  "vscode": {
   "interpreter": {
    "hash": "09b416dbcedcf4b387b467b41a6df5ea8fc466fddd68a109a611f65279636210"
   }
  }
 },
 "nbformat": 4,
 "nbformat_minor": 2
}
